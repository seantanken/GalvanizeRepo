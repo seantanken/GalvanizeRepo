{
 "cells": [
  {
   "cell_type": "code",
   "execution_count": 1,
   "id": "split-forest",
   "metadata": {},
   "outputs": [],
   "source": [
    "import pandas as pd\n",
    "import numpy as np\n",
    "import matplotlib.pyplot as plt\n",
    "from datetime import date, timedelta, time, datetime\n",
    "import time"
   ]
  },
  {
   "cell_type": "code",
   "execution_count": 2,
   "id": "victorian-armenia",
   "metadata": {},
   "outputs": [],
   "source": [
    "from selenium import webdriver\n",
    "from selenium.webdriver.common.action_chains import ActionChains\n",
    "from selenium.webdriver.support.ui import WebDriverWait\n",
    "from selenium.webdriver.support import expected_conditions as EC\n",
    "from selenium.webdriver.common.by import By\n",
    "from selenium.common.exceptions import ElementNotInteractableException, StaleElementReferenceException"
   ]
  },
  {
   "cell_type": "code",
   "execution_count": 3,
   "id": "incorrect-bearing",
   "metadata": {},
   "outputs": [],
   "source": [
    "import shutil"
   ]
  },
  {
   "cell_type": "markdown",
   "id": "fiscal-promotion",
   "metadata": {},
   "source": [
    "__ALWAYS RUN FIRST__"
   ]
  },
  {
   "cell_type": "markdown",
   "id": "primary-failure",
   "metadata": {},
   "source": [
    "Setting correct date for data\n",
    "\n",
    "Hour references in the code are set for PST, please change if your current timezone is different"
   ]
  },
  {
   "cell_type": "code",
   "execution_count": 4,
   "id": "miniature-blanket",
   "metadata": {},
   "outputs": [
    {
     "name": "stdout",
     "output_type": "stream",
     "text": [
      "Hour references in the code are set for PST, please change if your current timezone is different.\n",
      "It is Monday 2021-08-23 13:15:58.748793 now.\n",
      "Gathering data for Monday 2021-08-23.\n"
     ]
    }
   ],
   "source": [
    "today = date.today()\n",
    "now = datetime.now()\n",
    "hour = now.hour\n",
    "day = today.weekday()\n",
    "weekday = True\n",
    "day_dic = {0: 'Monday', 1: 'Tueday', 2: 'Wednesday', 3: 'Thursday', 4: 'Friday', 5: 'Saturday', 6: 'Sunday'}\n",
    "day_name = day_dic[day]\n",
    "print('Hour references in the code are set for PST, please change if your current timezone is different.')\n",
    "print(f'It is {day_name} {now} now.')\n",
    "day_name = day_dic[today.weekday()]\n",
    "if day > 4:\n",
    "    print(f'It is the weekend {day_name} {today}.')\n",
    "    print('Organizing data gathered for the last week.')\n",
    "    weekday = False\n",
    "    #today = today - timedelta(days = day-4)\n",
    "elif day <= 4:\n",
    "    print(f'Gathering data for {day_name} {today}.')\n",
    "elif 0 <= hour < 6:\n",
    "    today = today - timedelta(days = 1)\n",
    "elif 6 <= hour < 13:\n",
    "    raise Exception('Market is currently in trading hours, please wait until it closes to gather data.')"
   ]
  },
  {
   "cell_type": "markdown",
   "id": "contained-status",
   "metadata": {},
   "source": [
    "Closing price and trade volume (cptv) by minute datatable"
   ]
  },
  {
   "cell_type": "code",
   "execution_count": 5,
   "id": "gentle-introduction",
   "metadata": {},
   "outputs": [],
   "source": [
    "def get_cptv():\n",
    "    adv_chart_url = 'https://www.nasdaq.com/market-activity/stocks/amzn/advanced-charting/'\n",
    "    driver.get(adv_chart_url)\n",
    "    driver.switch_to.window(driver.window_handles[0])\n",
    "    driver.switch_to.default_content()\n",
    "\n",
    "    graph_frame = driver.find_element_by_xpath('//*[@id=\"chartholder\"]/iframe')\n",
    "    driver.switch_to.frame(graph_frame)\n",
    "    period_button = driver.find_element_by_id('periodBtn')\n",
    "    ActionChains(driver).move_to_element(period_button).click().perform()\n",
    "    min_period = driver.find_element_by_xpath('//*[@id=\"periodicity\"]/li[5]')\n",
    "    ActionChains(driver).move_to_element(min_period).click().perform()\n",
    "    table_button = driver.find_element_by_id(\"dataTableBtn\")\n",
    "    table_button.click()\n",
    "    driver.switch_to.default_content()\n",
    "    table_frame = driver.find_element_by_xpath('//*[@id=\"chartholder\"]/iframe')\n",
    "    driver.switch_to.frame(table_frame)\n",
    "    wait = WebDriverWait(driver, 10)\n",
    "    export_to_excel_button = wait.until(EC.element_to_be_clickable((By.XPATH, '//*[@onclick=\"window.grid.exportToExcel()\"]')))\n",
    "    ActionChains(driver).move_to_element(export_to_excel_button).click().perform()"
   ]
  },
  {
   "cell_type": "markdown",
   "id": "disabled-perry",
   "metadata": {},
   "source": [
    "Moving downloaded cptv by minute datatable to correct folder"
   ]
  },
  {
   "cell_type": "markdown",
   "id": "stupid-interval",
   "metadata": {},
   "source": [
    "Real time trades datatable"
   ]
  },
  {
   "cell_type": "code",
   "execution_count": 6,
   "id": "dominican-tennessee",
   "metadata": {},
   "outputs": [],
   "source": [
    "def get_rtt():\n",
    "    real_time_trades_url = 'https://www.nasdaq.com/market-activity/stocks/amzn/latest-real-time-trades'\n",
    "    driver.get(real_time_trades_url)\n",
    "    driver.switch_to.window(driver.window_handles[0])\n",
    "    driver.switch_to.default_content()\n",
    "\n",
    "    time.sleep(2)\n",
    "    time_list = ['9:30', '10:00', '10:30', '11:00', '11:30', '12:00', '12:30', '13:00', '13:30', '14:00', '14:30', '15:00', '15:30']\n",
    "    dropdown_menu = driver.find_element_by_class_name('latest-real-time-trades__dropdown-toggle')\n",
    "    dropdown_buttons = driver.find_elements_by_class_name('latest-real-time-trades__dropdown-option')\n",
    "    next_page_button = driver.find_element_by_class_name(\"pagination__next\")\n",
    "    banner = driver.find_element_by_xpath(\"/html/body\")\n",
    "    real_time_trades_data = []\n",
    "\n",
    "    table_page_buttons = driver.find_elements_by_class_name(\"pagination__page\")\n",
    "    if banner.get_attribute('class') == 'path-market-activity with-header-ads with-header-ads--loaded' and driver.execute_script(\"return window.pageYOffset;\") != 0:\n",
    "        driver.execute_script(\"window.scrollBy(0, -200);\")\n",
    "    ActionChains(driver).move_to_element(table_page_buttons[0]).click().perform()\n",
    "\n",
    "    row_count = 0\n",
    "\n",
    "    for i, time_section in enumerate(time_list):\n",
    "        driver.execute_script(\"window.scroll(0, 0);\")\n",
    "        driver.execute_script(\"arguments[0].scrollIntoView();\", dropdown_menu)\n",
    "        time_section_clicked = False\n",
    "        while time_section_clicked == False:\n",
    "\n",
    "            try:\n",
    "                if banner.get_attribute('class') == 'path-market-activity with-header-ads with-header-ads--loaded' and driver.execute_script(\"return window.pageYOffset;\") != 0:\n",
    "                    driver.execute_script(\"window.scrollBy(0, -200);\")\n",
    "                ActionChains(driver).move_to_element(dropdown_menu).click().perform()\n",
    "                driver.execute_script(\"arguments[0].scrollIntoView();\", dropdown_buttons[i+1])\n",
    "                ActionChains(driver).move_to_element(dropdown_buttons[i+1]).click().perform()\n",
    "                time_section_clicked = True\n",
    "            except ElementNotInteractableException:\n",
    "                driver.execute_script(\"window.scrollBy(0, -200);\")\n",
    "                continue\n",
    "        print(time_section)\n",
    "\n",
    "\n",
    "        pages = 1\n",
    "        while next_page_button.is_enabled() == True:\n",
    "\n",
    "            ## function?\n",
    "            row_count -= 1\n",
    "            page_data_gathered = False\n",
    "            row_count_buffer = 0\n",
    "            data_buffer = []\n",
    "            while page_data_gathered == False:\n",
    "                try:\n",
    "                    real_time_trades_row = driver.find_elements_by_xpath('.//*[self::tr]')\n",
    "                    for i, row in enumerate(real_time_trades_row):\n",
    "                        data_row = []\n",
    "                        for j, item in enumerate(row.find_elements_by_xpath(\".//*[self::td or self::th]\")):\n",
    "                            data_row.append(item.text)\n",
    "                        row_count_buffer += 1\n",
    "                        data_buffer.append(data_row)\n",
    "                    page_data_gathered = True\n",
    "                except StaleElementReferenceException:\n",
    "                    row_count_buffer = 0\n",
    "                    data_buffer = []\n",
    "                    continue\n",
    "            if page_data_gathered == True:\n",
    "                row_count += row_count_buffer\n",
    "                for row in data_buffer:\n",
    "                    real_time_trades_data.append(row)\n",
    "            ##\n",
    "\n",
    "            driver.execute_script(\"arguments[0].scrollIntoView();\", next_page_button)\n",
    "            ActionChains(driver).move_to_element(next_page_button).click().perform()\n",
    "            pages += 1\n",
    "\n",
    "        ## function?\n",
    "        row_count -= 1\n",
    "        page_data_gathered = False\n",
    "        row_count_buffer = 0\n",
    "        data_buffer = []\n",
    "        while page_data_gathered == False:\n",
    "            try:\n",
    "                real_time_trades_row = driver.find_elements_by_xpath('.//*[self::tr]')\n",
    "                for i, row in enumerate(real_time_trades_row):\n",
    "                    data_row = []\n",
    "                    for j, item in enumerate(row.find_elements_by_xpath(\".//*[self::td or self::th]\")):\n",
    "                        data_row.append(item.text)\n",
    "                    row_count_buffer += 1\n",
    "                    data_buffer.append(data_row)\n",
    "                page_data_gathered = True\n",
    "            except StaleElementReferenceException:\n",
    "                row_count_buffer = 0\n",
    "                data_buffer = []\n",
    "                continue\n",
    "        if page_data_gathered == True:\n",
    "            row_count += row_count_buffer\n",
    "            for row in data_buffer:\n",
    "                real_time_trades_data.append(row)\n",
    "            ##\n",
    "        print(pages)\n",
    "\n",
    "        table_page_buttons = driver.find_elements_by_class_name(\"pagination__page\")\n",
    "        if banner.get_attribute('class') == 'path-market-activity with-header-ads with-header-ads--loaded' and driver.execute_script(\"return window.pageYOffset;\") != 0:\n",
    "            driver.execute_script(\"window.scrollBy(0, -200);\")\n",
    "        ActionChains(driver).move_to_element(table_page_buttons[0]).click().perform()\n",
    "\n",
    "        time.sleep(0.5)\n",
    "    print(f'{row_count} number of rows')\n",
    "    return real_time_trades_data"
   ]
  },
  {
   "cell_type": "markdown",
   "id": "martial-coach",
   "metadata": {},
   "source": [
    "Real time trades data cleaning and put into a df"
   ]
  },
  {
   "cell_type": "code",
   "execution_count": 7,
   "id": "quarterly-testimony",
   "metadata": {},
   "outputs": [],
   "source": [
    "def save_rtt(real_time_trades_data):\n",
    "    real_time_trades_df = pd.DataFrame.from_records(real_time_trades_data)\n",
    "    real_time_trades_df.columns = real_time_trades_df.iloc[0]\n",
    "    real_time_trades_df = real_time_trades_df[real_time_trades_df['NLS Time (ET)'] != 'NLS Time (ET)']\n",
    "    real_time_trades_df_copy = real_time_trades_df.copy()\n",
    "    real_time_trades_df_copy.reset_index(drop=True)\n",
    "    real_time_trades_csv = f'AMZN_rtt_{today}.csv'\n",
    "    real_time_trades_df.to_csv(path_or_buf=f'C:/Users/seant/stock_analyzer/real_time_trades_data/{real_time_trades_csv}')"
   ]
  },
  {
   "cell_type": "code",
   "execution_count": 8,
   "id": "korean-costs",
   "metadata": {},
   "outputs": [
    {
     "ename": "FileNotFoundError",
     "evalue": "[Errno 2] No such file or directory: 'C:/Users/seant/Downloads/grid.xls'",
     "output_type": "error",
     "traceback": [
      "\u001b[1;31m---------------------------------------------------------------------------\u001b[0m",
      "\u001b[1;31mFileNotFoundError\u001b[0m                         Traceback (most recent call last)",
      "\u001b[1;32m~\\anaconda3\\lib\\shutil.py\u001b[0m in \u001b[0;36mmove\u001b[1;34m(src, dst, copy_function)\u001b[0m\n\u001b[0;32m    787\u001b[0m     \u001b[1;32mtry\u001b[0m\u001b[1;33m:\u001b[0m\u001b[1;33m\u001b[0m\u001b[1;33m\u001b[0m\u001b[0m\n\u001b[1;32m--> 788\u001b[1;33m         \u001b[0mos\u001b[0m\u001b[1;33m.\u001b[0m\u001b[0mrename\u001b[0m\u001b[1;33m(\u001b[0m\u001b[0msrc\u001b[0m\u001b[1;33m,\u001b[0m \u001b[0mreal_dst\u001b[0m\u001b[1;33m)\u001b[0m\u001b[1;33m\u001b[0m\u001b[1;33m\u001b[0m\u001b[0m\n\u001b[0m\u001b[0;32m    789\u001b[0m     \u001b[1;32mexcept\u001b[0m \u001b[0mOSError\u001b[0m\u001b[1;33m:\u001b[0m\u001b[1;33m\u001b[0m\u001b[1;33m\u001b[0m\u001b[0m\n",
      "\u001b[1;31mFileNotFoundError\u001b[0m: [WinError 2] The system cannot find the file specified: 'C:/Users/seant/Downloads/grid.xls' -> 'C:/Users/seant/stock_analyzer/closing_price_trade_volume_data/AMZN_cptv_2021-08-23.xls'",
      "\nDuring handling of the above exception, another exception occurred:\n",
      "\u001b[1;31mFileNotFoundError\u001b[0m                         Traceback (most recent call last)",
      "\u001b[1;32m<ipython-input-8-f9254b513345>\u001b[0m in \u001b[0;36m<module>\u001b[1;34m\u001b[0m\n\u001b[0;32m      7\u001b[0m     \u001b[0mtoday_data\u001b[0m \u001b[1;33m=\u001b[0m \u001b[1;34mf'closing_price_trade_volume_data/AMZN_cptv_{today}.xls'\u001b[0m\u001b[1;33m\u001b[0m\u001b[1;33m\u001b[0m\u001b[0m\n\u001b[0;32m      8\u001b[0m     \u001b[0mnew_dir\u001b[0m \u001b[1;33m=\u001b[0m \u001b[1;34mf'C:/Users/seant/stock_analyzer/{today_data}'\u001b[0m\u001b[1;33m\u001b[0m\u001b[1;33m\u001b[0m\u001b[0m\n\u001b[1;32m----> 9\u001b[1;33m     \u001b[0mshutil\u001b[0m\u001b[1;33m.\u001b[0m\u001b[0mmove\u001b[0m\u001b[1;33m(\u001b[0m\u001b[0mold_excel_dir\u001b[0m\u001b[1;33m,\u001b[0m \u001b[0mnew_dir\u001b[0m\u001b[1;33m)\u001b[0m\u001b[1;33m;\u001b[0m\u001b[1;33m\u001b[0m\u001b[1;33m\u001b[0m\u001b[0m\n\u001b[0m\u001b[0;32m     10\u001b[0m \u001b[1;33m\u001b[0m\u001b[0m\n\u001b[0;32m     11\u001b[0m     \u001b[0mreal_time_trades_data\u001b[0m \u001b[1;33m=\u001b[0m \u001b[0mget_rtt\u001b[0m\u001b[1;33m(\u001b[0m\u001b[1;33m)\u001b[0m\u001b[1;33m\u001b[0m\u001b[1;33m\u001b[0m\u001b[0m\n",
      "\u001b[1;32m~\\anaconda3\\lib\\shutil.py\u001b[0m in \u001b[0;36mmove\u001b[1;34m(src, dst, copy_function)\u001b[0m\n\u001b[0;32m    800\u001b[0m             \u001b[0mrmtree\u001b[0m\u001b[1;33m(\u001b[0m\u001b[0msrc\u001b[0m\u001b[1;33m)\u001b[0m\u001b[1;33m\u001b[0m\u001b[1;33m\u001b[0m\u001b[0m\n\u001b[0;32m    801\u001b[0m         \u001b[1;32melse\u001b[0m\u001b[1;33m:\u001b[0m\u001b[1;33m\u001b[0m\u001b[1;33m\u001b[0m\u001b[0m\n\u001b[1;32m--> 802\u001b[1;33m             \u001b[0mcopy_function\u001b[0m\u001b[1;33m(\u001b[0m\u001b[0msrc\u001b[0m\u001b[1;33m,\u001b[0m \u001b[0mreal_dst\u001b[0m\u001b[1;33m)\u001b[0m\u001b[1;33m\u001b[0m\u001b[1;33m\u001b[0m\u001b[0m\n\u001b[0m\u001b[0;32m    803\u001b[0m             \u001b[0mos\u001b[0m\u001b[1;33m.\u001b[0m\u001b[0munlink\u001b[0m\u001b[1;33m(\u001b[0m\u001b[0msrc\u001b[0m\u001b[1;33m)\u001b[0m\u001b[1;33m\u001b[0m\u001b[1;33m\u001b[0m\u001b[0m\n\u001b[0;32m    804\u001b[0m     \u001b[1;32mreturn\u001b[0m \u001b[0mreal_dst\u001b[0m\u001b[1;33m\u001b[0m\u001b[1;33m\u001b[0m\u001b[0m\n",
      "\u001b[1;32m~\\anaconda3\\lib\\shutil.py\u001b[0m in \u001b[0;36mcopy2\u001b[1;34m(src, dst, follow_symlinks)\u001b[0m\n\u001b[0;32m    430\u001b[0m     \u001b[1;32mif\u001b[0m \u001b[0mos\u001b[0m\u001b[1;33m.\u001b[0m\u001b[0mpath\u001b[0m\u001b[1;33m.\u001b[0m\u001b[0misdir\u001b[0m\u001b[1;33m(\u001b[0m\u001b[0mdst\u001b[0m\u001b[1;33m)\u001b[0m\u001b[1;33m:\u001b[0m\u001b[1;33m\u001b[0m\u001b[1;33m\u001b[0m\u001b[0m\n\u001b[0;32m    431\u001b[0m         \u001b[0mdst\u001b[0m \u001b[1;33m=\u001b[0m \u001b[0mos\u001b[0m\u001b[1;33m.\u001b[0m\u001b[0mpath\u001b[0m\u001b[1;33m.\u001b[0m\u001b[0mjoin\u001b[0m\u001b[1;33m(\u001b[0m\u001b[0mdst\u001b[0m\u001b[1;33m,\u001b[0m \u001b[0mos\u001b[0m\u001b[1;33m.\u001b[0m\u001b[0mpath\u001b[0m\u001b[1;33m.\u001b[0m\u001b[0mbasename\u001b[0m\u001b[1;33m(\u001b[0m\u001b[0msrc\u001b[0m\u001b[1;33m)\u001b[0m\u001b[1;33m)\u001b[0m\u001b[1;33m\u001b[0m\u001b[1;33m\u001b[0m\u001b[0m\n\u001b[1;32m--> 432\u001b[1;33m     \u001b[0mcopyfile\u001b[0m\u001b[1;33m(\u001b[0m\u001b[0msrc\u001b[0m\u001b[1;33m,\u001b[0m \u001b[0mdst\u001b[0m\u001b[1;33m,\u001b[0m \u001b[0mfollow_symlinks\u001b[0m\u001b[1;33m=\u001b[0m\u001b[0mfollow_symlinks\u001b[0m\u001b[1;33m)\u001b[0m\u001b[1;33m\u001b[0m\u001b[1;33m\u001b[0m\u001b[0m\n\u001b[0m\u001b[0;32m    433\u001b[0m     \u001b[0mcopystat\u001b[0m\u001b[1;33m(\u001b[0m\u001b[0msrc\u001b[0m\u001b[1;33m,\u001b[0m \u001b[0mdst\u001b[0m\u001b[1;33m,\u001b[0m \u001b[0mfollow_symlinks\u001b[0m\u001b[1;33m=\u001b[0m\u001b[0mfollow_symlinks\u001b[0m\u001b[1;33m)\u001b[0m\u001b[1;33m\u001b[0m\u001b[1;33m\u001b[0m\u001b[0m\n\u001b[0;32m    434\u001b[0m     \u001b[1;32mreturn\u001b[0m \u001b[0mdst\u001b[0m\u001b[1;33m\u001b[0m\u001b[1;33m\u001b[0m\u001b[0m\n",
      "\u001b[1;32m~\\anaconda3\\lib\\shutil.py\u001b[0m in \u001b[0;36mcopyfile\u001b[1;34m(src, dst, follow_symlinks)\u001b[0m\n\u001b[0;32m    259\u001b[0m         \u001b[0mos\u001b[0m\u001b[1;33m.\u001b[0m\u001b[0msymlink\u001b[0m\u001b[1;33m(\u001b[0m\u001b[0mos\u001b[0m\u001b[1;33m.\u001b[0m\u001b[0mreadlink\u001b[0m\u001b[1;33m(\u001b[0m\u001b[0msrc\u001b[0m\u001b[1;33m)\u001b[0m\u001b[1;33m,\u001b[0m \u001b[0mdst\u001b[0m\u001b[1;33m)\u001b[0m\u001b[1;33m\u001b[0m\u001b[1;33m\u001b[0m\u001b[0m\n\u001b[0;32m    260\u001b[0m     \u001b[1;32melse\u001b[0m\u001b[1;33m:\u001b[0m\u001b[1;33m\u001b[0m\u001b[1;33m\u001b[0m\u001b[0m\n\u001b[1;32m--> 261\u001b[1;33m         \u001b[1;32mwith\u001b[0m \u001b[0mopen\u001b[0m\u001b[1;33m(\u001b[0m\u001b[0msrc\u001b[0m\u001b[1;33m,\u001b[0m \u001b[1;34m'rb'\u001b[0m\u001b[1;33m)\u001b[0m \u001b[1;32mas\u001b[0m \u001b[0mfsrc\u001b[0m\u001b[1;33m,\u001b[0m \u001b[0mopen\u001b[0m\u001b[1;33m(\u001b[0m\u001b[0mdst\u001b[0m\u001b[1;33m,\u001b[0m \u001b[1;34m'wb'\u001b[0m\u001b[1;33m)\u001b[0m \u001b[1;32mas\u001b[0m \u001b[0mfdst\u001b[0m\u001b[1;33m:\u001b[0m\u001b[1;33m\u001b[0m\u001b[1;33m\u001b[0m\u001b[0m\n\u001b[0m\u001b[0;32m    262\u001b[0m             \u001b[1;31m# macOS\u001b[0m\u001b[1;33m\u001b[0m\u001b[1;33m\u001b[0m\u001b[1;33m\u001b[0m\u001b[0m\n\u001b[0;32m    263\u001b[0m             \u001b[1;32mif\u001b[0m \u001b[0m_HAS_FCOPYFILE\u001b[0m\u001b[1;33m:\u001b[0m\u001b[1;33m\u001b[0m\u001b[1;33m\u001b[0m\u001b[0m\n",
      "\u001b[1;31mFileNotFoundError\u001b[0m: [Errno 2] No such file or directory: 'C:/Users/seant/Downloads/grid.xls'"
     ]
    }
   ],
   "source": [
    "if weekday == True:\n",
    "    driver = webdriver.Chrome('C:/Users/seant/OneDrive/Desktop/chromedriver_win32/chromedriver.exe')\n",
    "    \n",
    "    get_cptv()\n",
    "    time.sleep(30)\n",
    "    old_excel_dir = 'C:/Users/seant/Downloads/grid.xls'\n",
    "    today_data = f'closing_price_trade_volume_data/AMZN_cptv_{today}.xls'\n",
    "    new_dir = f'C:/Users/seant/stock_analyzer/{today_data}'\n",
    "    shutil.move(old_excel_dir, new_dir);\n",
    "    \n",
    "    real_time_trades_data = get_rtt()\n",
    "    save_rtt(real_time_trades_data)\n",
    "    \n",
    "    driver.quit()\n",
    "    \n",
    "    #change x ticks to be by the hour?\n",
    "    today_table = pd.read_excel(today_data)\n",
    "    date_array = today_table.loc[:, 'Date']\n",
    "\n",
    "    plt.rcParams.update({'font.size': 22})\n",
    "    fig, ax1 = plt.subplots(1, figsize=(30, 15))\n",
    "\n",
    "    ax1.plot(date_array, today_table.loc[:, 'Close'], color='r', label='Close')\n",
    "    ax1.set_ylabel('Close Price ($)', color ='r')\n",
    "    ax1.set_title(f'AMZN {today}')\n",
    "    ax1.tick_params(axis='y', labelcolor='r')\n",
    "\n",
    "    ax2 = ax1.twinx()\n",
    "    ax2.plot(date_array, today_table.loc[:, 'Volume'], color='b', label='Volume')\n",
    "    ax2.set_ylabel('Volume', color ='b')\n",
    "    ax2.tick_params(axis='y', labelcolor='b')\n",
    "\n",
    "    plt.show()\n",
    "else:\n",
    "    print('weekend')"
   ]
  },
  {
   "cell_type": "markdown",
   "id": "maritime-apache",
   "metadata": {},
   "source": [
    "Datatable analysis\n",
    "\n",
    "Only cptv by minute datatable so far"
   ]
  },
  {
   "cell_type": "code",
   "execution_count": null,
   "id": "painful-japan",
   "metadata": {},
   "outputs": [],
   "source": []
  }
 ],
 "metadata": {
  "kernelspec": {
   "display_name": "Python 3",
   "language": "python",
   "name": "python3"
  },
  "language_info": {
   "codemirror_mode": {
    "name": "ipython",
    "version": 3
   },
   "file_extension": ".py",
   "mimetype": "text/x-python",
   "name": "python",
   "nbconvert_exporter": "python",
   "pygments_lexer": "ipython3",
   "version": "3.8.5"
  }
 },
 "nbformat": 4,
 "nbformat_minor": 5
}
