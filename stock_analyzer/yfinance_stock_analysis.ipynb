{
 "cells": [
  {
   "cell_type": "code",
   "execution_count": 1,
   "id": "de7d7756-f336-4460-8ab0-e8981df21a38",
   "metadata": {},
   "outputs": [],
   "source": [
    "import yfinance as yf\n",
    "import pandas as pd\n",
    "import numpy as np\n",
    "import seaborn as sb"
   ]
  },
  {
   "cell_type": "code",
   "execution_count": 9,
   "id": "cba308d7-5661-4701-bf91-e528d1468d1a",
   "metadata": {},
   "outputs": [],
   "source": [
    "def get_stock(period, stock_ticker):\n",
    "    stock = yf.Ticker(stock_ticker)\n",
    "    #periods = “1d”, “5d”, “1mo”, “3mo”, “6mo”, “1y”, “2y”, “5y”, “10y”, “ytd”, “max”\n",
    "    if period == '1d':\n",
    "        interval = '1m'\n",
    "    else:\n",
    "        interval = '1d'\n",
    "    return stock.history(period=period, interval=interval, actions=False)"
   ]
  },
  {
   "cell_type": "code",
   "execution_count": 10,
   "id": "5eaefa27-5141-434d-a13c-39599206d29d",
   "metadata": {},
   "outputs": [],
   "source": [
    "amzn_df = get_stock(period='1mo', stock_ticker='amzn')"
   ]
  },
  {
   "cell_type": "code",
   "execution_count": 12,
   "id": "1f303ae0-002d-4392-ac87-f17f636037c8",
   "metadata": {},
   "outputs": [
    {
     "data": {
      "text/html": [
       "<div>\n",
       "<style scoped>\n",
       "    .dataframe tbody tr th:only-of-type {\n",
       "        vertical-align: middle;\n",
       "    }\n",
       "\n",
       "    .dataframe tbody tr th {\n",
       "        vertical-align: top;\n",
       "    }\n",
       "\n",
       "    .dataframe thead th {\n",
       "        text-align: right;\n",
       "    }\n",
       "</style>\n",
       "<table border=\"1\" class=\"dataframe\">\n",
       "  <thead>\n",
       "    <tr style=\"text-align: right;\">\n",
       "      <th></th>\n",
       "      <th>Open</th>\n",
       "      <th>High</th>\n",
       "      <th>Low</th>\n",
       "      <th>Close</th>\n",
       "      <th>Volume</th>\n",
       "    </tr>\n",
       "    <tr>\n",
       "      <th>Date</th>\n",
       "      <th></th>\n",
       "      <th></th>\n",
       "      <th></th>\n",
       "      <th></th>\n",
       "      <th></th>\n",
       "    </tr>\n",
       "  </thead>\n",
       "  <tbody>\n",
       "    <tr>\n",
       "      <th>2021-10-15</th>\n",
       "      <td>3311.419922</td>\n",
       "      <td>3410.419922</td>\n",
       "      <td>3304.000000</td>\n",
       "      <td>3409.020020</td>\n",
       "      <td>5175100</td>\n",
       "    </tr>\n",
       "    <tr>\n",
       "      <th>2021-10-18</th>\n",
       "      <td>3388.360107</td>\n",
       "      <td>3449.169922</td>\n",
       "      <td>3385.100098</td>\n",
       "      <td>3446.739990</td>\n",
       "      <td>3174100</td>\n",
       "    </tr>\n",
       "    <tr>\n",
       "      <th>2021-10-19</th>\n",
       "      <td>3434.290039</td>\n",
       "      <td>3454.689941</td>\n",
       "      <td>3422.000000</td>\n",
       "      <td>3444.149902</td>\n",
       "      <td>2386100</td>\n",
       "    </tr>\n",
       "    <tr>\n",
       "      <th>2021-10-20</th>\n",
       "      <td>3452.659912</td>\n",
       "      <td>3462.860107</td>\n",
       "      <td>3400.370117</td>\n",
       "      <td>3415.060059</td>\n",
       "      <td>2139800</td>\n",
       "    </tr>\n",
       "    <tr>\n",
       "      <th>2021-10-21</th>\n",
       "      <td>3414.250000</td>\n",
       "      <td>3440.280029</td>\n",
       "      <td>3403.000000</td>\n",
       "      <td>3435.010010</td>\n",
       "      <td>1881400</td>\n",
       "    </tr>\n",
       "    <tr>\n",
       "      <th>2021-10-22</th>\n",
       "      <td>3421.000000</td>\n",
       "      <td>3429.840088</td>\n",
       "      <td>3331.300049</td>\n",
       "      <td>3335.550049</td>\n",
       "      <td>3133800</td>\n",
       "    </tr>\n",
       "    <tr>\n",
       "      <th>2021-10-25</th>\n",
       "      <td>3335.000000</td>\n",
       "      <td>3347.800049</td>\n",
       "      <td>3297.699951</td>\n",
       "      <td>3320.370117</td>\n",
       "      <td>2226000</td>\n",
       "    </tr>\n",
       "    <tr>\n",
       "      <th>2021-10-26</th>\n",
       "      <td>3349.510010</td>\n",
       "      <td>3416.120117</td>\n",
       "      <td>3343.979980</td>\n",
       "      <td>3376.070068</td>\n",
       "      <td>2698300</td>\n",
       "    </tr>\n",
       "    <tr>\n",
       "      <th>2021-10-27</th>\n",
       "      <td>3388.000000</td>\n",
       "      <td>3437.000000</td>\n",
       "      <td>3371.449951</td>\n",
       "      <td>3392.489990</td>\n",
       "      <td>2702200</td>\n",
       "    </tr>\n",
       "    <tr>\n",
       "      <th>2021-10-28</th>\n",
       "      <td>3402.100098</td>\n",
       "      <td>3479.000000</td>\n",
       "      <td>3386.000000</td>\n",
       "      <td>3446.570068</td>\n",
       "      <td>5648200</td>\n",
       "    </tr>\n",
       "  </tbody>\n",
       "</table>\n",
       "</div>"
      ],
      "text/plain": [
       "                   Open         High          Low        Close   Volume\n",
       "Date                                                                   \n",
       "2021-10-15  3311.419922  3410.419922  3304.000000  3409.020020  5175100\n",
       "2021-10-18  3388.360107  3449.169922  3385.100098  3446.739990  3174100\n",
       "2021-10-19  3434.290039  3454.689941  3422.000000  3444.149902  2386100\n",
       "2021-10-20  3452.659912  3462.860107  3400.370117  3415.060059  2139800\n",
       "2021-10-21  3414.250000  3440.280029  3403.000000  3435.010010  1881400\n",
       "2021-10-22  3421.000000  3429.840088  3331.300049  3335.550049  3133800\n",
       "2021-10-25  3335.000000  3347.800049  3297.699951  3320.370117  2226000\n",
       "2021-10-26  3349.510010  3416.120117  3343.979980  3376.070068  2698300\n",
       "2021-10-27  3388.000000  3437.000000  3371.449951  3392.489990  2702200\n",
       "2021-10-28  3402.100098  3479.000000  3386.000000  3446.570068  5648200"
      ]
     },
     "execution_count": 12,
     "metadata": {},
     "output_type": "execute_result"
    }
   ],
   "source": [
    "amzn_df.tail(10)"
   ]
  },
  {
   "cell_type": "code",
   "execution_count": 14,
   "id": "10daa068-5ad8-4237-8f55-4cd52d7bbd70",
   "metadata": {},
   "outputs": [
    {
     "data": {
      "text/plain": [
       "Open      3.328810e+03\n",
       "High      3.360402e+03\n",
       "Low       3.302161e+03\n",
       "Close     3.328730e+03\n",
       "Volume    2.841755e+06\n",
       "dtype: float64"
      ]
     },
     "execution_count": 14,
     "metadata": {},
     "output_type": "execute_result"
    }
   ],
   "source": [
    "amzn_df.mean()"
   ]
  },
  {
   "cell_type": "code",
   "execution_count": null,
   "id": "0f724e1e-9e7f-43af-bf64-d62349fe938f",
   "metadata": {},
   "outputs": [],
   "source": []
  }
 ],
 "metadata": {
  "kernelspec": {
   "display_name": "Python 3",
   "language": "python",
   "name": "python3"
  },
  "language_info": {
   "codemirror_mode": {
    "name": "ipython",
    "version": 3
   },
   "file_extension": ".py",
   "mimetype": "text/x-python",
   "name": "python",
   "nbconvert_exporter": "python",
   "pygments_lexer": "ipython3",
   "version": "3.8.5"
  }
 },
 "nbformat": 4,
 "nbformat_minor": 5
}
