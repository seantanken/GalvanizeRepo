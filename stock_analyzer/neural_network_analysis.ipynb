{
 "cells": [
  {
   "cell_type": "code",
   "execution_count": 4,
   "id": "floating-opinion",
   "metadata": {},
   "outputs": [],
   "source": [
    "import tensorflow as tf\n",
    "\n",
    "from tensorflow import keras\n",
    "from tensorflow.keras.metrics import *\n",
    "from tensorflow.keras.models import Sequential\n",
    "from tensorflow.keras.layers import Dense, Dropout, Activation, LSTM\n",
    "from tensorflow.keras.optimizers import SGD\n",
    "from keras.utils.vis_utils import plot_model\n",
    "\n",
    "from sklearn.model_selection import train_test_split\n",
    "from sklearn.metrics import *\n",
    "\n",
    "import numpy.random as rand\n",
    "import scipy.stats as stats \n",
    "from keras.wrappers.scikit_learn import KerasClassifier, KerasRegressor \n",
    "from sklearn.model_selection import StratifiedKFold"
   ]
  },
  {
   "cell_type": "code",
   "execution_count": 3,
   "id": "northern-charger",
   "metadata": {},
   "outputs": [],
   "source": [
    "import pandas as pd\n",
    "import numpy as np\n",
    "import matplotlib.pyplot as plt\n",
    "from datetime import date, timedelta, time, datetime\n",
    "import time\n",
    "plt.style.use('ggplot')"
   ]
  },
  {
   "cell_type": "markdown",
   "id": "parallel-retail",
   "metadata": {},
   "source": [
    "Use root mean squared log error\n",
    "\n",
    "Pipeline?"
   ]
  },
  {
   "cell_type": "markdown",
   "id": "bearing-entertainment",
   "metadata": {},
   "source": [
    "train = 3 or 4 weeks, test = 1 day / week"
   ]
  },
  {
   "cell_type": "markdown",
   "id": "killing-origin",
   "metadata": {},
   "source": [
    "## Train/Test Data"
   ]
  },
  {
   "cell_type": "markdown",
   "id": "whole-laugh",
   "metadata": {},
   "source": [
    "Creating train/test data"
   ]
  },
  {
   "cell_type": "markdown",
   "id": "starting-california",
   "metadata": {},
   "source": [
    "train_test_split(y, shuffle=False) instead of manually selecting train/test data?\n",
    "\n",
    "or df2 = datasX.iloc[:, :72]\n",
    "   df2 = datasX.iloc[:, 72:]"
   ]
  },
  {
   "cell_type": "markdown",
   "id": "smoking-protein",
   "metadata": {},
   "source": [
    "Train = weeks 5/10/21 to 5/31/21\n",
    "\n",
    "Test = week 6/7/21 + 6/14/21 day "
   ]
  },
  {
   "cell_type": "markdown",
   "id": "final-woman",
   "metadata": {},
   "source": [
    "# converting days to max and min for neural network prediction"
   ]
  },
  {
   "cell_type": "code",
   "execution_count": 50,
   "id": "dried-mistress",
   "metadata": {},
   "outputs": [],
   "source": [
    "week_start_lst = ['2021-05-10', '2021-05-17', '2021-05-24', '2021-05-31', '2021-06-7']\n",
    "week_start_df = pd.DataFrame(columns=['year', 'month', 'day'])\n",
    "for i, week in enumerate(week_start_lst):\n",
    "    split_week = week.split('-')\n",
    "    week_start_df.loc[i] = split_week[0], split_week[1], split_week[2]\n",
    "week_start_datetime = pd.to_datetime(week_start_df)"
   ]
  },
  {
   "cell_type": "code",
   "execution_count": 55,
   "id": "nearby-thanksgiving",
   "metadata": {},
   "outputs": [
    {
     "name": "stdout",
     "output_type": "stream",
     "text": [
      "               Date       Open       High        Low      Close   Volume\n",
      "0  2021-05-10 09-30  3273.1101  3273.1101  3273.1101  3273.1101  98924.0\n",
      "1  2021-05-10 09-31  3269.8450  3269.8450  3269.8450  3269.8450  21831.0\n",
      "2  2021-05-10 09-32  3259.7500  3259.7500  3259.7500  3259.7500  30404.0\n",
      "3  2021-05-10 09-33  3259.0000  3259.0000  3259.0000  3259.0000  45721.0\n",
      "4  2021-05-10 09-34  3258.0000  3258.0000  3258.0000  3258.0000  32843.0\n",
      "               Date       Open       High        Low      Close    Volume\n",
      "0  2021-05-11 09-30  3145.9099  3145.9099  3145.9099  3145.9099  278087.0\n",
      "1  2021-05-11 09-31  3148.0601  3148.0601  3148.0601  3148.0601   55566.0\n",
      "2  2021-05-11 09-32  3152.2649  3152.2649  3152.2649  3152.2649   49978.0\n",
      "3  2021-05-11 09-33  3144.8523  3144.8523  3144.8523  3144.8523   34608.0\n",
      "4  2021-05-11 09-34  3144.6799  3144.6799  3144.6799  3144.6799   30181.0\n",
      "               Date       Open       High        Low      Close    Volume\n",
      "0  2021-05-17 09-30  3254.7451  3254.7451  3254.7451  3254.7451  133556.0\n",
      "1  2021-05-17 09-31  3249.9900  3249.9900  3249.9900  3249.9900   28646.0\n",
      "2  2021-05-17 09-32  3250.3040  3250.3040  3250.3040  3250.3040   16958.0\n",
      "3  2021-05-17 09-33  3241.0100  3241.0100  3241.0100  3241.0100   32738.0\n",
      "4  2021-05-17 09-34  3263.1201  3263.1201  3263.1201  3263.1201   47922.0\n",
      "               Date       Open       High        Low      Close    Volume\n",
      "0  2021-05-18 09-30  3288.6899  3288.6899  3288.6899  3288.6899  117407.0\n",
      "1  2021-05-18 09-31  3290.1699  3290.1699  3290.1699  3290.1699   14533.0\n",
      "2  2021-05-18 09-32  3285.0061  3285.0061  3285.0061  3285.0061   13799.0\n",
      "3  2021-05-18 09-33  3280.4900  3280.4900  3280.4900  3280.4900   15450.0\n",
      "4  2021-05-18 09-34  3282.8601  3282.8601  3282.8601  3282.8601    8586.0\n",
      "               Date       Open       High        Low      Close   Volume\n",
      "0  2021-05-24 09-30  3216.8899  3216.8899  3216.8899  3216.8899  84805.0\n",
      "1  2021-05-24 09-31  3211.8250  3211.8250  3211.8250  3211.8250  18442.0\n",
      "2  2021-05-24 09-32  3221.4600  3221.4600  3221.4600  3221.4600  15999.0\n",
      "3  2021-05-24 09-33  3221.6389  3221.6389  3221.6389  3221.6389  20387.0\n",
      "4  2021-05-24 09-34  3222.8601  3222.8601  3222.8601  3222.8601   8642.0\n",
      "               Date       Open       High        Low      Close   Volume\n",
      "0  2021-05-25 09-30  3271.4299  3271.4299  3271.4299  3271.4299  99545.0\n",
      "1  2021-05-25 09-31  3274.0000  3274.0000  3274.0000  3274.0000  27814.0\n",
      "2  2021-05-25 09-32  3277.6599  3277.6599  3277.6599  3277.6599  18531.0\n",
      "3  2021-05-25 09-33  3279.3999  3279.3999  3279.3999  3279.3999  13319.0\n",
      "4  2021-05-25 09-34  3272.5000  3272.5000  3272.5000  3272.5000  19831.0\n",
      "               Date       Open       High        Low      Close   Volume\n",
      "0  2021-05-28 09-30  3238.8601  3238.8601  3238.8601  3238.8601  57354.0\n",
      "1  2021-05-28 09-31  3240.3701  3240.3701  3240.3701  3240.3701  18579.0\n",
      "2  2021-05-28 09-32  3237.2800  3237.2800  3237.2800  3237.2800   6122.0\n",
      "3  2021-05-28 09-33  3238.9998  3238.9998  3238.9998  3238.9998   9945.0\n",
      "4  2021-05-28 09-34  3235.7400  3235.7400  3235.7400  3235.7400  10742.0\n",
      "               Date       Open       High        Low      Close   Volume\n",
      "0  2021-06-01 09-30  3242.1299  3242.1299  3242.1299  3242.1299  92419.0\n",
      "1  2021-06-01 09-31  3242.4299  3242.4299  3242.4299  3242.4299  11825.0\n",
      "2  2021-06-01 09-32  3243.8000  3243.8000  3243.8000  3243.8000  14076.0\n",
      "3  2021-06-01 09-33  3240.5701  3240.5701  3240.5701  3240.5701  16328.0\n",
      "4  2021-06-01 09-34  3240.0000  3240.0000  3240.0000  3240.0000   7346.0\n",
      "               Date       Open       High        Low      Close   Volume\n",
      "0  2021-06-07 09-30  3200.0000  3200.0000  3200.0000  3200.0000  66583.0\n",
      "1  2021-06-07 09-31  3197.0000  3197.0000  3197.0000  3197.0000  17104.0\n",
      "2  2021-06-07 09-32  3198.0977  3198.0977  3198.0977  3198.0977  16985.0\n",
      "3  2021-06-07 09-33  3198.8899  3198.8899  3198.8899  3198.8899  16474.0\n",
      "4  2021-06-07 09-34  3199.5801  3199.5801  3199.5801  3199.5801  10516.0\n",
      "               Date       Open       High        Low      Close   Volume\n",
      "0  2021-06-08 09-30  3221.7500  3221.7500  3221.7500  3221.7500  92230.0\n",
      "1  2021-06-08 09-31  3221.6001  3221.6001  3221.6001  3221.6001  24972.0\n",
      "2  2021-06-08 09-32  3219.3450  3219.3450  3219.3450  3219.3450  10677.0\n",
      "3  2021-06-08 09-33  3222.7200  3222.7200  3222.7200  3222.7200  15542.0\n",
      "4  2021-06-08 09-34  3223.6899  3223.6899  3223.6899  3223.6899   9926.0\n"
     ]
    }
   ],
   "source": [
    "for week_start in week_start_datetime:\n",
    "    for day_num in range(2):\n",
    "        trading_day = week_start + timedelta(days = day_num)\n",
    "        trading_day = trading_day.date()\n",
    "        cptv_trading_day_path = f'closing_price_trade_volume_data/AMZN_cptv_{trading_day}.xls'\n",
    "        cptv_trading_day_df = pd.read_excel(cptv_trading_day_path)\n",
    "        print(cptv_trading_day_df.head(5))"
   ]
  },
  {
   "cell_type": "code",
   "execution_count": null,
   "id": "amino-vector",
   "metadata": {},
   "outputs": [],
   "source": [
    "def convert_week_to_min_max(week_start_datetime)\n",
    "    for week_start in week_start_datetime\n",
    "        for day_num in range(5):\n",
    "            trading_day = week_start + timedelta(days = day_num)\n",
    "    \n",
    "            cptv_trading_day_path = f'closing_price_trade_volume_data/AMZN_cptv_{trading_day}.xls'\n",
    "            cptv_trading_day_df = pd.read_excel(cptv_trading_day_path)\n",
    "            cptv_trading_day_df.drop(columns=['Open', 'High', 'Low'], inplace=True)\n",
    "            cptv_trading_day_df.drop(cptv_trading_day_df.tail(1).index, inplace=True)\n",
    "            cptv_week_df = cptv_week_df.append(cptv_trading_day_df, ignore_index=True, sort=False)"
   ]
  },
  {
   "cell_type": "markdown",
   "id": "impossible-canadian",
   "metadata": {},
   "source": [
    "# methods for decomposition for regression prediction"
   ]
  },
  {
   "cell_type": "code",
   "execution_count": 28,
   "id": "continuous-latin",
   "metadata": {},
   "outputs": [],
   "source": [
    "train = pd.DataFrame()"
   ]
  },
  {
   "cell_type": "code",
   "execution_count": 35,
   "id": "ecological-vocabulary",
   "metadata": {},
   "outputs": [],
   "source": [
    "week_start = '2021-05-31'"
   ]
  },
  {
   "cell_type": "code",
   "execution_count": 36,
   "id": "designed-century",
   "metadata": {},
   "outputs": [],
   "source": [
    "cptv_week_csv = f'AMZN_cptv_{week_start}.csv'\n",
    "cptv_week_df = pd.read_csv(f'C:/Users/seant/stock_analyzer/weekly_data/{cptv_week_csv}', header=0, index_col=0)\n",
    "train = train.append(cptv_week_df, ignore_index=True, sort=False)"
   ]
  },
  {
   "cell_type": "code",
   "execution_count": null,
   "id": "rubber-nevada",
   "metadata": {},
   "outputs": [],
   "source": [
    "test_week_start = '2021-06-07'"
   ]
  },
  {
   "cell_type": "code",
   "execution_count": 25,
   "id": "interracial-legend",
   "metadata": {},
   "outputs": [],
   "source": [
    "cptv_week_csv = f'AMZN_cptv_{test_week_start}.csv'\n",
    "test = pd.read_csv(f'C:/Users/seant/stock_analyzer/weekly_data/{cptv_week_csv}', header=0, index_col=0)"
   ]
  },
  {
   "cell_type": "code",
   "execution_count": 57,
   "id": "polished-savannah",
   "metadata": {},
   "outputs": [],
   "source": [
    "testday = pd.read_excel(f'C:/Users/seant/stock_analyzer/closing_price_trade_volume_data/AMZN_cptv_2021-06-14.xls', header=0, index_col=0)\n",
    "test = test.append(testday, ignore_index=True, sort=False)"
   ]
  },
  {
   "cell_type": "code",
   "execution_count": 58,
   "id": "serious-plant",
   "metadata": {},
   "outputs": [],
   "source": [
    "train_csv = f'AMZN_cptv_train.csv'\n",
    "train.to_csv(path_or_buf=f'C:/Users/seant/stock_analyzer/weekly_data/{train_csv}')\n",
    "test_csv = f'AMZN_cptv_test.csv'\n",
    "test.to_csv(path_or_buf=f'C:/Users/seant/stock_analyzer/weekly_data/{test_csv}')"
   ]
  },
  {
   "cell_type": "markdown",
   "id": "annual-flash",
   "metadata": {},
   "source": [
    "Massaging data"
   ]
  },
  {
   "cell_type": "code",
   "execution_count": 53,
   "id": "silent-springer",
   "metadata": {},
   "outputs": [],
   "source": [
    "def roll(df, column_name_lst, minute_period=200):\n",
    "    rolled_df = pd.DataFrame()\n",
    "    for column_name in column_name_lst:\n",
    "        series = df.loc[:, column_name]\n",
    "        rolled_df[column_name] = series.rolling(minute_period, center=True).mean()\n",
    "    return rolled_df"
   ]
  },
  {
   "cell_type": "code",
   "execution_count": 54,
   "id": "expanded-washington",
   "metadata": {},
   "outputs": [],
   "source": [
    "def decompose(df, column_name_lst, minute_period=390):\n",
    "    df_copy = df.copy()\n",
    "    seasonal_resid_df = pd.DataFrame()\n",
    "    trend_df = pd.DataFrame()\n",
    "    for column_name in column_name_lst:\n",
    "        for_decompose = df_copy[[column_name]].dropna()\n",
    "        decomposed = seasonal_decompose(for_decompose, model='additive', period=minute_period)\n",
    "        trend_df[column_name] = decomposed.trend.dropna()\n",
    "        seasonal_resid_df[f'{column_name}_seasonal'] = decomposed.seasonal\n",
    "        seasonal_resid_df[f'{column_name}_resid'] = decomposed.resid\n",
    "    #add a column of constants?\n",
    "    return trend_df, seasonal_resid_df"
   ]
  },
  {
   "cell_type": "code",
   "execution_count": null,
   "id": "occasional-chester",
   "metadata": {},
   "outputs": [],
   "source": [
    "def split(trend_df, minute_period=390, num_periods = 5):\n",
    "    num_prediction_periods = minute_period * num_periods\n",
    "    last_period_cut = trend_df.shape(0) - num_prediction_periods #want to use 5 periods of data to predict next period of close prices\n",
    "    X = trend_df.iloc[:, :Last_period_cut] #cuts last period off for features to predict from\n",
    "    y = trend_df.iloc[0, num_prediction_periods:] #cuts first column and period off for targets for prediction\n",
    "    #how to use 1 week of data to predict 1 day of prices? extrapolate trend out 1 period?\n",
    "    return X, y"
   ]
  },
  {
   "cell_type": "code",
   "execution_count": 20,
   "id": "hungarian-roman",
   "metadata": {},
   "outputs": [],
   "source": [
    "def recompose(trend_df, seasonal_resid_df, column_name_lst, minute_period=390):\n",
    "    trend_list = []\n",
    "    for i in range(minute_periods / 2):\n",
    "        trend_list.append(np.nan)\n",
    "    for value in trend_df.items():\n",
    "        trend_list.append(value)\n",
    "    for i in range(minute_periods / 2):\n",
    "        trend_list.append(np.nan)"
   ]
  },
  {
   "cell_type": "code",
   "execution_count": 72,
   "id": "neither-delta",
   "metadata": {},
   "outputs": [
    {
     "data": {
      "text/plain": [
       "195"
      ]
     },
     "execution_count": 72,
     "metadata": {},
     "output_type": "execute_result"
    }
   ],
   "source": [
    "nan_df = pd.Series(np.nan, index = range(0, int(390 / 2)))\n",
    "nan_df.isna().sum()"
   ]
  },
  {
   "cell_type": "markdown",
   "id": "packed-arthur",
   "metadata": {},
   "source": [
    "rescale data with \n",
    "\n",
    "# normalize the dataset for LSTM in neural network\n",
    "\n",
    "scaler = MinMaxScaler(feature_range=(0, 1))\n",
    "\n",
    "dataset = scaler.fit_transform(dataset)"
   ]
  },
  {
   "cell_type": "markdown",
   "id": "local-mediterranean",
   "metadata": {},
   "source": [
    "Use max/min of each day?"
   ]
  },
  {
   "cell_type": "code",
   "execution_count": 41,
   "id": "subsequent-bulletin",
   "metadata": {},
   "outputs": [],
   "source": [
    "minute_rolling_avg = 200\n",
    "\n",
    "train_rolled = pd.DataFrame()\n",
    "train_close_series = train.loc[:, 'Close']\n",
    "train_rolled = train_rolled.assign(rolling_close = train_close_series.rolling(minute_rolling_avg, center=True).mean())\n",
    "train_volume_series = train.loc[:, 'Volume']\n",
    "train_rolled = train_rolled.assign(rolling_volume = train_volume_series.rolling(minute_rolling_avg, center=True).mean())\n",
    "\n",
    "test_rolled = pd.DataFrame()\n",
    "test_close_series = test.loc[:, 'Close']\n",
    "test_rolled = test_rolled.assign(rolling_close = test_close_series.rolling(minute_rolling_avg, center=True).mean())\n",
    "test_volume_series = test.loc[:, 'Volume']\n",
    "test_rolled = test_rolled.assign(rolling_volume = test_volume_series.rolling(minute_rolling_avg, center=True).mean())"
   ]
  },
  {
   "cell_type": "code",
   "execution_count": 51,
   "id": "eight-progress",
   "metadata": {},
   "outputs": [
    {
     "data": {
      "text/plain": [
       "Close      3197.335587\n",
       "Volume    11301.540000\n",
       "Name: 500, dtype: float64"
      ]
     },
     "execution_count": 51,
     "metadata": {},
     "output_type": "execute_result"
    }
   ],
   "source": [
    "train_rolled = roll(train, ['Close', 'Volume'])\n",
    "train_rolled.iloc[500]"
   ]
  },
  {
   "cell_type": "code",
   "execution_count": 42,
   "id": "micro-playback",
   "metadata": {},
   "outputs": [
    {
     "name": "stdout",
     "output_type": "stream",
     "text": [
      "(7729, 5)\n",
      "(1931, 3)\n"
     ]
    }
   ],
   "source": [
    "cptv_copy = cptv_week_df.copy()\n",
    "cptv_roll_close_for_decompose = cptv_copy[['rolling_close']].dropna()\n",
    "cptv_roll_vol_for_decompose = cptv_copy[['rolling_volume']].dropna()"
   ]
  },
  {
   "cell_type": "markdown",
   "id": "pending-camera",
   "metadata": {},
   "source": [
    "X_train = combine all weeks into one dataframe, decompose into closing(trend_1 + trend_2), volume(trend), +1 column, add additional day as prediction happens to predict next day\n",
    "\n",
    "y_train = closing(trend_1 + trend_2)? target is next minute price? min, max of next day?"
   ]
  },
  {
   "cell_type": "markdown",
   "id": "mathematical-contract",
   "metadata": {},
   "source": [
    "neural network model"
   ]
  },
  {
   "cell_type": "code",
   "execution_count": 11,
   "id": "original-speed",
   "metadata": {},
   "outputs": [],
   "source": [
    "model = Sequential()\n",
    "model.add(LSTM(units=10, return_sequences=True))\n",
    "model.add(Dropout(rate=0.2))\n",
    "model.add(LSTM(units=10, return_sequences=True))\n",
    "model.add(Dropout(rate=0.2))\n",
    "model.add(LSTM(units=10, return_sequences=True))\n",
    "model.add(Dropout(rate=0.2))\n",
    "#model.add(Dense(5, activation='relu'))\n",
    "model.add(Dense(5))\n",
    "model.compile(loss='root_mean_squared_error', optimizer='SGD', metrics=keras.metrics.Accuracy())"
   ]
  },
  {
   "cell_type": "code",
   "execution_count": null,
   "id": "excellent-benchmark",
   "metadata": {},
   "outputs": [],
   "source": [
    "batch_size = 300\n",
    "model.fit(X_train, y_train, epochs=10, batch_size=batch_size)"
   ]
  },
  {
   "cell_type": "code",
   "execution_count": null,
   "id": "pursuant-commodity",
   "metadata": {},
   "outputs": [],
   "source": [
    "results=model.evaluate(X_test, y_test, batch_size=batch_size)"
   ]
  },
  {
   "cell_type": "code",
   "execution_count": null,
   "id": "falling-protest",
   "metadata": {},
   "outputs": [],
   "source": [
    "def buildNN(X, y, activation_function, metric, optimizer, hidden_layers=[7], batch_size=32, epochs=5):\n",
    "    skf = StratifiedKFold()\n",
    "    skf.get_n_splits(X, y)\n",
    "    sumofsquares = np.zeros([13])\n",
    "    sumofweights = np.zeros([13])\n",
    "    for train_index, test_index in skf.split(X, y):\n",
    "        #print(\"TRAIN:\", train_index, \"TEST:\", test_index)\n",
    "        #X_train, X_test, y_train, y_test = train_test_split(X, y, test_size=.33, random_state=42)\n",
    "        model = keras.models.Sequential()\n",
    "        X_train, X_test = X[train_index], X[test_index]\n",
    "        y_train, y_test = y[train_index], y[test_index]\n",
    "        for i, layer in enumerate(hidden_layers):\n",
    "            if i == 0:\n",
    "                model.add(keras.layers.Dense(units=layer, input_dim=13, activation=activation_function))\n",
    "            else:\n",
    "                model.add(keras.layers.Dense(units=layer, activation=activation_function))\n",
    "        model.add(keras.layers.Dense(units=1, activation=activation_function))\n",
    "        model.compile(loss='mean_squared_error', optimizer=optimizer, metrics=keras.metrics.BinaryAccuracy()) #'sgd 'keras.metrics.BinaryAccuracy()\n",
    "        model.summary()\n",
    "        model.fit(X_train, y_train, epochs=epochs, batch_size=batch_size)\n",
    "        print(\"Test Results:\")\n",
    "        results = model.evaluate(X_test, y_test, batch_size=batch_size)\n",
    "        for i, layer_size in enumerate(hidden_layers):\n",
    "            for index in range(layer_size):\n",
    "                print(f\"hidden_layers[{i}] = index=[{index}] {model.weights[0].numpy()[:,index]}\")\n",
    "                sumofsquares += model.weights[0].numpy()[:,index]**2\n",
    "                sumofweights += model.weights[0].numpy()[:,index]\n",
    "                #print(f\"model.weights len = {len(model.weights)}\")\n",
    "    print(\"absvalues=\")\n",
    "    print(absvalues)\n",
    "    return sumofsquares,sumofweights"
   ]
  }
 ],
 "metadata": {
  "kernelspec": {
   "display_name": "Python 3",
   "language": "python",
   "name": "python3"
  },
  "language_info": {
   "codemirror_mode": {
    "name": "ipython",
    "version": 3
   },
   "file_extension": ".py",
   "mimetype": "text/x-python",
   "name": "python",
   "nbconvert_exporter": "python",
   "pygments_lexer": "ipython3",
   "version": "3.8.5"
  }
 },
 "nbformat": 4,
 "nbformat_minor": 5
}
