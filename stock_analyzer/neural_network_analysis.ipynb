{
 "cells": [
  {
   "cell_type": "code",
   "execution_count": null,
   "id": "native-rebate",
   "metadata": {},
   "outputs": [],
   "source": [
    "import tensorflow as tf\n",
    "\n",
    "from tensorflow import keras\n",
    "from tensorflow.keras.metrics import *\n",
    "from tensorflow.keras.models import Sequential\n",
    "from tensorflow.keras.layers import Dense, Dropout, Activation, LSTM\n",
    "from tensorflow.keras.optimizers import SGD\n",
    "from keras.utils.vis_utils import plot_model\n",
    "\n",
    "from sklearn.model_selection import train_test_split\n",
    "from sklearn.metrics import *\n",
    "\n",
    "import numpy.random as rand\n",
    "import scipy.stats as stats \n",
    "plt.style.use('ggplot')\n",
    "from keras.wrappers.scikit_learn import KerasClassifier, KerasRegressor \n",
    "from sklearn.model_selection import StratifiedKFold"
   ]
  },
  {
   "cell_type": "code",
   "execution_count": null,
   "id": "outside-romance",
   "metadata": {},
   "outputs": [],
   "source": [
    "import pandas as pd\n",
    "import numpy as np\n",
    "import matplotlib.pyplot as plt\n",
    "from datetime import date, timedelta, time, datetime\n",
    "import time"
   ]
  },
  {
   "cell_type": "markdown",
   "id": "appointed-offer",
   "metadata": {},
   "source": [
    "Use root mean squared log error\n",
    "\n",
    "Pipeline?"
   ]
  },
  {
   "cell_type": "markdown",
   "id": "regulation-debate",
   "metadata": {},
   "source": [
    "Stratified KFold Split (train test split)"
   ]
  },
  {
   "cell_type": "code",
   "execution_count": null,
   "id": "personal-tennessee",
   "metadata": {},
   "outputs": [],
   "source": [
    "skf = StratifiedKFold()\n",
    "skf.get_n_splits(X, y)\n",
    "\n",
    "for train_index, test_index in skf.split(X, y):\n",
    "    X_train, X_test = X[train_index], X[test_index]\n",
    "    y_train, y_test = y[train_index], y[test_index]"
   ]
  },
  {
   "cell_type": "markdown",
   "id": "greater-chaos",
   "metadata": {},
   "source": [
    "X_train = combine all weeks into one dataframe, decompose into closing(trend_1 + trend_2), volume(trend), +1 column, add additional day as prediction happens to predict next day\n",
    "\n",
    "y_train = closing(trend_1 + trend_2)? target is next minute price? min, max of next day?"
   ]
  },
  {
   "cell_type": "markdown",
   "id": "future-continent",
   "metadata": {},
   "source": [
    "neural network model"
   ]
  },
  {
   "cell_type": "code",
   "execution_count": null,
   "id": "lasting-armenia",
   "metadata": {},
   "outputs": [],
   "source": [
    "model = Sequential()\n",
    "model.add(LSTM(units=10, return_sequences=True, input_shape=(???)))\n",
    "model.add(Dropout())"
   ]
  },
  {
   "cell_type": "code",
   "execution_count": null,
   "id": "sitting-edgar",
   "metadata": {},
   "outputs": [],
   "source": [
    "def buildNN(X, y, activation_function, metric, optimizer, hidden_layers=[7], batch_size=32, epochs=5):\n",
    "    skf = StratifiedKFold()\n",
    "    skf.get_n_splits(X, y)\n",
    "    sumofsquares = np.zeros([13])\n",
    "    sumofweights = np.zeros([13])\n",
    "    for train_index, test_index in skf.split(X, y):\n",
    "        #print(\"TRAIN:\", train_index, \"TEST:\", test_index)\n",
    "        #X_train, X_test, y_train, y_test = train_test_split(X, y, test_size=.33, random_state=42)\n",
    "        model = keras.models.Sequential()\n",
    "        X_train, X_test = X[train_index], X[test_index]\n",
    "        y_train, y_test = y[train_index], y[test_index]\n",
    "        for i, layer in enumerate(hidden_layers):\n",
    "            if i == 0:\n",
    "                model.add(keras.layers.Dense(units=layer, input_dim=13, activation=activation_function))\n",
    "            else:\n",
    "                model.add(keras.layers.Dense(units=layer, activation=activation_function))\n",
    "        model.add(keras.layers.Dense(units=1, activation=activation_function))\n",
    "        model.compile(loss='mean_squared_error', optimizer=optimizer, metrics=keras.metrics.BinaryAccuracy()) #'sgd 'keras.metrics.BinaryAccuracy()\n",
    "        model.summary()\n",
    "        model.fit(X_train, y_train, epochs=epochs, batch_size=batch_size)\n",
    "        print(\"Test Results:\")\n",
    "        results = model.evaluate(X_test, y_test, batch_size=batch_size)\n",
    "        for i, layer_size in enumerate(hidden_layers):\n",
    "            for index in range(layer_size):\n",
    "                print(f\"hidden_layers[{i}] = index=[{index}] {model.weights[0].numpy()[:,index]}\")\n",
    "                sumofsquares += model.weights[0].numpy()[:,index]**2\n",
    "                sumofweights += model.weights[0].numpy()[:,index]\n",
    "                #print(f\"model.weights len = {len(model.weights)}\")\n",
    "    print(\"absvalues=\")\n",
    "    print(absvalues)\n",
    "    return sumofsquares,sumofweights"
   ]
  }
 ],
 "metadata": {
  "kernelspec": {
   "display_name": "Python 3",
   "language": "python",
   "name": "python3"
  },
  "language_info": {
   "codemirror_mode": {
    "name": "ipython",
    "version": 3
   },
   "file_extension": ".py",
   "mimetype": "text/x-python",
   "name": "python",
   "nbconvert_exporter": "python",
   "pygments_lexer": "ipython3",
   "version": "3.8.5"
  }
 },
 "nbformat": 4,
 "nbformat_minor": 5
}
