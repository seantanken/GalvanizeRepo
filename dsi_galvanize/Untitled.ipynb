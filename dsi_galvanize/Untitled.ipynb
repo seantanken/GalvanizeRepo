{
 "cells": [
  {
   "cell_type": "markdown",
   "id": "acute-flight",
   "metadata": {},
   "source": [
    "write a function that takes a number n and returns a list of the first n fizzbuzz-converted numbers.\n",
    "divisible by 3, replace with fizz, divisible by 5, replace with buzz"
   ]
  },
  {
   "cell_type": "code",
   "execution_count": 20,
   "id": "reduced-communications",
   "metadata": {},
   "outputs": [],
   "source": [
    "def replace_nums(n):\n",
    "    lst = []\n",
    "    for i in range(1, n + 1):\n",
    "        lst.append(i)\n",
    "    \n",
    "    for i, num in enumerate(lst):\n",
    "        if num % 3 == 0 and num % 5 == 0:\n",
    "            lst[i] = 'fizzbuzz'\n",
    "        elif num % 3 == 0:\n",
    "            lst[i] = 'fizz'\n",
    "        elif num % 5 == 0:\n",
    "            lst[i] = 'buzz'\n",
    "        \n",
    "    return lst"
   ]
  },
  {
   "cell_type": "code",
   "execution_count": 21,
   "id": "instant-seventh",
   "metadata": {},
   "outputs": [
    {
     "name": "stdout",
     "output_type": "stream",
     "text": [
      "[1, 2, 'fizz', 4, 'buzz', 'fizz', 7, 8, 'fizz', 'buzz', 11, 'fizz', 13, 14, 'fizzbuzz']\n"
     ]
    }
   ],
   "source": [
    "n = 15\n",
    "x = replace_nums(n)\n",
    "print(x)"
   ]
  },
  {
   "cell_type": "markdown",
   "id": "european-melbourne",
   "metadata": {},
   "source": [
    "Write a function with a single parameter n that returns the nth Fibonacci number."
   ]
  },
  {
   "cell_type": "code",
   "execution_count": 41,
   "id": "smooth-encoding",
   "metadata": {},
   "outputs": [],
   "source": [
    "def fibonacci(n):\n",
    "    fib_lst = [0, 1]\n",
    "    for i in range(2, n+1):\n",
    "        fib_lst.append(fib_lst[i - 1] + fib_lst[i - 2])\n",
    "        \n",
    "    return fib_lst[n]"
   ]
  },
  {
   "cell_type": "code",
   "execution_count": 42,
   "id": "cleared-running",
   "metadata": {},
   "outputs": [
    {
     "name": "stdout",
     "output_type": "stream",
     "text": [
      "377\n"
     ]
    }
   ],
   "source": [
    "n = 14\n",
    "x = fibonacci(n)\n",
    "print(x)"
   ]
  },
  {
   "cell_type": "markdown",
   "id": "local-binding",
   "metadata": {},
   "source": [
    "Write a function that takes a string of words and returns a list of tuples of the number of vowels and consonants for each word. Handle punctuation appropriately."
   ]
  },
  {
   "cell_type": "code",
   "execution_count": 58,
   "id": "upset-camera",
   "metadata": {},
   "outputs": [],
   "source": [
    "def word_string(string):\n",
    "    punc = \",.?!:'\"\n",
    "    for char in string:\n",
    "        if char in punc:\n",
    "            string = string.replace(char, '')\n",
    "    \n",
    "    word_lst = string.split(' ')\n",
    "    vowels = 'aeiou'\n",
    "    tuple_lst = []\n",
    "    for i, word in enumerate(word_lst):\n",
    "        vow = 0\n",
    "        cons = 0\n",
    "        for letter in word:\n",
    "            if letter in vowels:\n",
    "                vow += 1\n",
    "            else:\n",
    "                cons += 1\n",
    "        tuple_lst.append((vow, cons))\n",
    "                \n",
    "    return tuple_lst"
   ]
  },
  {
   "cell_type": "code",
   "execution_count": 59,
   "id": "french-state",
   "metadata": {},
   "outputs": [
    {
     "name": "stdout",
     "output_type": "stream",
     "text": [
      "old pond frog leaps in waters sound\n",
      "[(1, 2), (1, 3), (1, 3), (2, 3), (1, 1), (2, 4), (2, 3)]\n"
     ]
    }
   ],
   "source": [
    "s = '''old pond frog leaps in water's sound'''\n",
    "x = word_string(s)\n",
    "print(x)"
   ]
  },
  {
   "cell_type": "markdown",
   "id": "comparable-effectiveness",
   "metadata": {},
   "source": [
    "Write a function that takes a list of strings and returns a list of tuples of strings from the original list such that the first is a substring of the second."
   ]
  },
  {
   "cell_type": "code",
   "execution_count": 61,
   "id": "outside-breath",
   "metadata": {},
   "outputs": [],
   "source": [
    "def substrings(lst):\n",
    "    tuple_lst = []\n",
    "    for word_1 in lst:\n",
    "        word_1 = word_1.lower()\n",
    "        for word_2 in lst:\n",
    "            word_2 = word_2.lower()\n",
    "            if word_1 != word_2:\n",
    "                if word_1 in word_2:\n",
    "                    word_tuple = (word_1, word_2)\n",
    "                    tuple_lst.append(word_tuple)\n",
    "                    \n",
    "    return tuple_lst"
   ]
  },
  {
   "cell_type": "code",
   "execution_count": 62,
   "id": "light-funds",
   "metadata": {},
   "outputs": [
    {
     "name": "stdout",
     "output_type": "stream",
     "text": [
      "[('eat', 'great'), ('ham', 'champ'), ('am', 'ham'), ('am', 'champ')]\n"
     ]
    }
   ],
   "source": [
    "x = substrings([\"I\", \"eat\", \"ham\", \"am\", \"Great\", \"CHAMP\"])\n",
    "print(x)"
   ]
  },
  {
   "cell_type": "code",
   "execution_count": null,
   "id": "adaptive-bicycle",
   "metadata": {},
   "outputs": [],
   "source": []
  }
 ],
 "metadata": {
  "kernelspec": {
   "display_name": "Python 3",
   "language": "python",
   "name": "python3"
  },
  "language_info": {
   "codemirror_mode": {
    "name": "ipython",
    "version": 3
   },
   "file_extension": ".py",
   "mimetype": "text/x-python",
   "name": "python",
   "nbconvert_exporter": "python",
   "pygments_lexer": "ipython3",
   "version": "3.8.5"
  }
 },
 "nbformat": 4,
 "nbformat_minor": 5
}
